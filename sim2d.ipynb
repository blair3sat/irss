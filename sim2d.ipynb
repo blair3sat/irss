{
 "cells": [
  {
   "cell_type": "code",
   "execution_count": 4,
   "metadata": {},
   "outputs": [],
   "source": [
    "import numpy as np\n",
    "import matplotlib.pyplot as plt\n",
    "import pandas as pd\n",
    "\n",
    "import skfmm"
   ]
  },
  {
   "cell_type": "code",
   "execution_count": 5,
   "metadata": {},
   "outputs": [
    {
     "data": {
      "text/plain": [
       "[<matplotlib.lines.Line2D at 0x7f127a0fe898>]"
      ]
     },
     "execution_count": 5,
     "metadata": {},
     "output_type": "execute_result"
    },
    {
     "data": {
      "image/png": "[encoded data removed]",
      "text/plain": [
       "<Figure size 432x288 with 1 Axes>"
      ]
     },
     "metadata": {
      "needs_background": "light"
     },
     "output_type": "display_data"
    }
   ],
   "source": [
    "# Load an ionogram to get charge density as a function of height\n",
    "with open('data/NHPC_Profiles-20190126120000-30611') as fi:\n",
    "    hli = 0    # header line index\n",
    "    rep = []\n",
    "    loc_name = ''\n",
    "    loc_id = ''\n",
    "    date = ''\n",
    "    time = ''\n",
    "    \n",
    "    for line in fi:\n",
    "        if hli == 0:\n",
    "            [loc_name, loc_id, date, time] = line.split()\n",
    "            loc_id = loc_id[1:-2]\n",
    "            hli = 1\n",
    "            continue\n",
    "            \n",
    "        elif hli < 4:\n",
    "            hli += 1\n",
    "            continue\n",
    "        \n",
    "        elif line == '===\\n':\n",
    "            ofn = 'data/processed/' + loc_id + '_' + date + '_' + time + '.csv'\n",
    "            if len(rep) > 0 and rep[0] != '\\n':\n",
    "                with open(ofn, 'w') as fo:\n",
    "                    fo.write('Height,Frequency,Density\\n')\n",
    "                    for ol in rep:\n",
    "                        op = ''\n",
    "                        for os in ol.split():\n",
    "                            op += os + ','\n",
    "                        fo.write(op[0:-1] + '\\n')\n",
    "            hli = 0\n",
    "            rep.clear()\n",
    "        else:\n",
    "            rep.append(line)\n",
    "\n",
    "df = pd.read_csv('data/processed/mo155_2019-01-26_12:01:00.csv')\n",
    "plt.plot(df['Density'], df['Height'])"
   ]
  },
  {
   "cell_type": "code",
   "execution_count": 27,
   "metadata": {},
   "outputs": [
    {
     "name": "stdout",
     "output_type": "stream",
     "text": [
      "[[1.         1.         1.         ... 1.         1.         1.        ]\n",
      " [1.         1.         1.         ... 1.         1.         1.        ]\n",
      " [0.99999999 0.99999999 0.99999999 ... 0.99999999 0.99999999 0.99999999]\n",
      " ...\n",
      " [1.         1.         1.         ... 1.         1.         1.        ]\n",
      " [1.         1.         1.         ... 1.         1.         1.        ]\n",
      " [1.         1.         1.         ... 1.         1.         1.        ]]\n"
     ]
    },
    {
     "data": {
      "text/plain": [
       "<matplotlib.image.AxesImage at 0x7f12799cd860>"
      ]
     },
     "execution_count": 27,
     "metadata": {},
     "output_type": "execute_result"
    },
    {
     "data": {
      "image/png": "[encoded data removed]",
      "text/plain": [
       "<Figure size 432x288 with 1 Axes>"
      ]
     },
     "metadata": {
      "needs_background": "light"
     },
     "output_type": "display_data"
    }
   ],
   "source": [
    "# Produce n(h) from the charge density\n",
    "\n",
    "E_CHARGE = 1.60217662e-19 # coulombs\n",
    "E_MASS = 9.109e-31 # kg\n",
    "EPSILON_0 = 8.854187817e-12 # F m^−1\n",
    "\n",
    "\n",
    "def count2omega_p(count):\n",
    "    return np.sqrt(count * (E_CHARGE ** 2) / EPSILON_0 / E_MASS)\n",
    "\n",
    "\n",
    "def freq2omega(freq):\n",
    "    return 2 * np.pi * freq\n",
    "    \n",
    "\n",
    "def omegas2n(omega_p, omega):\n",
    "    return np.sqrt(1 - (omega_p ** 2) / (omega ** 2))\n",
    "\n",
    "\n",
    "# Assume for now we're TX at 10 MHz\n",
    "# Calculate index of refraction\n",
    "tx_freq = 10e6 # hz\n",
    "index = omegas2n(count2omega_p(df['Density']), freq2omega(tx_freq))\n",
    "plt.plot(index, df['Height'])\n",
    "\n",
    "# Expand n(h) to n(x,y)\n",
    "i2d = np.tile(np.array([index]).transpose(), (1, 50))\n",
    "print(i2d)\n",
    "plt.imshow(i2d)\n",
    "\n",
    "# Noise n(x,y)\n",
    "\n",
    "# Evaluate FMM"
   ]
  },
  {
   "cell_type": "code",
   "execution_count": 33,
   "metadata": {},
   "outputs": [
    {
     "ename": "ValueError",
     "evalue": "phi and speed must have the same shape",
     "output_type": "error",
     "traceback": [
      "\u001b[0;31m---------------------------------------------------------------------------\u001b[0m",
      "\u001b[0;31mValueError\u001b[0m                                Traceback (most recent call last)",
      "\u001b[0;32m<ipython-input-33-5c63c2dcb418>\u001b[0m in \u001b[0;36m<module>\u001b[0;34m\u001b[0m\n\u001b[1;32m      2\u001b[0m \u001b[0mphi\u001b[0m \u001b[0;34m=\u001b[0m \u001b[0;34m(\u001b[0m\u001b[0mX\u001b[0m\u001b[0;34m+\u001b[0m\u001b[0;36m0.8\u001b[0m\u001b[0;34m)\u001b[0m\u001b[0;34m**\u001b[0m\u001b[0;36m2\u001b[0m\u001b[0;34m+\u001b[0m\u001b[0;34m(\u001b[0m\u001b[0mY\u001b[0m\u001b[0;34m+\u001b[0m\u001b[0;36m0.8\u001b[0m\u001b[0;34m)\u001b[0m\u001b[0;34m**\u001b[0m\u001b[0;36m2\u001b[0m \u001b[0;34m-\u001b[0m \u001b[0;36m0.01\u001b[0m\u001b[0;34m\u001b[0m\u001b[0;34m\u001b[0m\u001b[0m\n\u001b[1;32m      3\u001b[0m \u001b[0;34m\u001b[0m\u001b[0m\n\u001b[0;32m----> 4\u001b[0;31m \u001b[0mskfmm\u001b[0m\u001b[0;34m.\u001b[0m\u001b[0mtravel_time\u001b[0m\u001b[0;34m(\u001b[0m\u001b[0mphi\u001b[0m\u001b[0;34m,\u001b[0m \u001b[0mi2d\u001b[0m\u001b[0;34m,\u001b[0m \u001b[0mdx\u001b[0m\u001b[0;34m=\u001b[0m\u001b[0;36m2.0\u001b[0m\u001b[0;34m/\u001b[0m\u001b[0;36m500\u001b[0m\u001b[0;34m,\u001b[0m \u001b[0mperiodic\u001b[0m\u001b[0;34m=\u001b[0m\u001b[0;34m(\u001b[0m\u001b[0;36m1\u001b[0m\u001b[0;34m,\u001b[0m\u001b[0;36m0\u001b[0m\u001b[0;34m)\u001b[0m\u001b[0;34m)\u001b[0m\u001b[0;34m\u001b[0m\u001b[0;34m\u001b[0m\u001b[0m\n\u001b[0m",
      "\u001b[0;32m~/anaconda3/envs/irss/lib/python3.6/site-packages/skfmm/pfmm.py\u001b[0m in \u001b[0;36mtravel_time\u001b[0;34m(phi, speed, dx, self_test, order, narrow, periodic)\u001b[0m\n\u001b[1;32m    171\u001b[0m         \u001b[0;34m=\u001b[0m \u001b[0mpre_process_args\u001b[0m\u001b[0;34m(\u001b[0m\u001b[0mphi\u001b[0m\u001b[0;34m,\u001b[0m \u001b[0mdx\u001b[0m\u001b[0;34m,\u001b[0m \u001b[0mnarrow\u001b[0m\u001b[0;34m,\u001b[0m \u001b[0mperiodic\u001b[0m\u001b[0;34m)\u001b[0m\u001b[0;34m\u001b[0m\u001b[0;34m\u001b[0m\u001b[0m\n\u001b[1;32m    172\u001b[0m     t = cFastMarcher(phi, dx, flag, speed, ext_mask,\n\u001b[0;32m--> 173\u001b[0;31m                      int(self_test), TRAVEL_TIME, order, narrow, periodic)\n\u001b[0m\u001b[1;32m    174\u001b[0m     \u001b[0mt\u001b[0m \u001b[0;34m=\u001b[0m \u001b[0mpost_process_result\u001b[0m\u001b[0;34m(\u001b[0m\u001b[0mt\u001b[0m\u001b[0;34m)\u001b[0m\u001b[0;34m\u001b[0m\u001b[0;34m\u001b[0m\u001b[0m\n\u001b[1;32m    175\u001b[0m     \u001b[0;32mreturn\u001b[0m \u001b[0mt\u001b[0m\u001b[0;34m\u001b[0m\u001b[0;34m\u001b[0m\u001b[0m\n",
      "\u001b[0;31mValueError\u001b[0m: phi and speed must have the same shape"
     ]
    }
   ],
   "source": [
    "X, Y = np.meshgrid(np.linspace(-1,1,len(index)), np.linspace(-1,1,len(index)))\n",
    "phi = (X+0.8)**2+(Y+0.8)**2 - 0.01\n",
    "\n",
    "skfmm.travel_time(phi, i2d, dx=2.0/500, periodic=(1,0))"
   ]
  },
  {
   "cell_type": "code",
   "execution_count": null,
   "metadata": {},
   "outputs": [],
   "source": []
  }
 ],
 "metadata": {
  "kernelspec": {
   "display_name": "Python 3",
   "language": "python",
   "name": "python3"
  },
  "language_info": {
   "codemirror_mode": {
    "name": "ipython",
    "version": 3
   },
   "file_extension": ".py",
   "mimetype": "text/x-python",
   "name": "python",
   "nbconvert_exporter": "python",
   "pygments_lexer": "ipython3",
   "version": "3.6.7"
  }
 },
 "nbformat": 4,
 "nbformat_minor": 2
}
