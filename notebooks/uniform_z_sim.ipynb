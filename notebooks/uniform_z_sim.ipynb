{
 "cells": [
  {
   "cell_type": "code",
   "execution_count": 2,
   "metadata": {
    "collapsed": true
   },
   "outputs": [],
   "source": [
    "import numpy as np\n",
    "import matplotlib.pyplot as plt\n",
    "import meep as mp\n",
    "\n",
    "EPSILON_0 = 8.85418782e-12 # (m^-3 kg^-1 s^4 A^2) permitivity of free space\n",
    "E = 1.60217662e-19 # (C) elementary charge\n",
    "ME = 9.10938356e-31 # (kg) resting mass of electron\n",
    "C = 299792458 # (m s^-1) speed of light"
   ]
  },
  {
   "cell_type": "markdown",
   "metadata": {},
   "source": [
    "In order to simulate the propagation of waves through the ionosphere, we must first know the permittivity and permeability of the space. In the plasma, we have a frequency-dependent permittivity $\\epsilon(\\omega)$. It is given as follows.\n",
    "\n",
    "$$\\omega_p = \\sqrt{\\frac{n_e e^2}{\\epsilon_0 m_e}}$$\n",
    "\n",
    "$$\\epsilon(\\omega) = 1 - \\frac{\\omega_p^2}{\\omega^2}$$"
   ]
  },
  {
   "cell_type": "code",
   "execution_count": 3,
   "metadata": {},
   "outputs": [],
   "source": [
    "def nde2pfreq(nde):\n",
    "    '''Calculate the plasma frequency given the number density of electrons'''\n",
    "    return np.sqrt(nde * E^2 / EPSILON_0 / ME)\n",
    "\n",
    "\n",
    "def freqnde2permit(omega, nde):\n",
    "    '''Calculate the permittivity given the transmitted frequency and the number density of electrons'''\n",
    "    omegap = nde2freq(nde)\n",
    "    return 1 - omegap ** 2 / omega ** 2\n",
    "\n",
    "def freqnde2vel(omega, nde):\n",
    "    epsilon = freqnde2permit(omega, nde)\n",
    "    return C / sqrt(epsilon)"
   ]
  },
  {
   "cell_type": "code",
   "execution_count": null,
   "metadata": {},
   "outputs": [],
   "source": []
  },
  {
   "cell_type": "code",
   "execution_count": null,
   "metadata": {},
   "outputs": [],
   "source": []
  }
 ],
 "metadata": {
  "kernelspec": {
   "display_name": "Python 2",
   "language": "python",
   "name": "python2"
  },
  "language_info": {
   "codemirror_mode": {
    "name": "ipython",
    "version": 2
   },
   "file_extension": ".py",
   "mimetype": "text/x-python",
   "name": "python",
   "nbconvert_exporter": "python",
   "pygments_lexer": "ipython2",
   "version": "2.7.6"
  }
 },
 "nbformat": 4,
 "nbformat_minor": 0
}
