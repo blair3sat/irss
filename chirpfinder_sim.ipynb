{
 "cells": [
  {
   "cell_type": "code",
   "execution_count": 1,
   "metadata": {},
   "outputs": [],
   "source": [
    "import numpy as np\n",
    "import scipy.signal\n",
    "import matplotlib.pyplot as plt"
   ]
  },
  {
   "cell_type": "code",
   "execution_count": 3,
   "metadata": {},
   "outputs": [],
   "source": [
    "T = 10\n",
    "fs = 8000 * 16\n",
    "\n",
    "ts = np.linspace(0, T, T*fs, endpoint=False)\n",
    "chirp = scipy.signal.chirp(ts, f0=2e6, t1=128*16, f1=20e6, method='linear')\n",
    "\n",
    "f, t, Sxx = scipy.signal.spectrogram(chirp, fs=fs, window='nuttall',\n",
    "                                     noverlap=256*8*2, nperseg=512*8*2,\n",
    "                                     nfft=2048*16*8)"
   ]
  },
  {
   "cell_type": "code",
   "execution_count": 4,
   "metadata": {},
   "outputs": [
    {
     "data": {
      "text/plain": [
       "<matplotlib.collections.QuadMesh at 0x7fc2b48ec940>"
      ]
     },
     "execution_count": 4,
     "metadata": {},
     "output_type": "execute_result"
    },
    {
     "data": {
      "image/png": "[encoded data removed]",
      "text/plain": [
       "<Figure size 432x288 with 2 Axes>"
      ]
     },
     "metadata": {
      "needs_background": "light"
     },
     "output_type": "display_data"
    }
   ],
   "source": [
    "delayed = scipy.signal.chirp(ts, f0=2e6, t1=128*16,\n",
    "                             f1=20e6, method='linear')\n",
    "delayed = np.array([0] * 600 + list(delayed[600:]))\n",
    "\n",
    "fd, td, Sxxd = scipy.signal.spectrogram(delayed, fs=fs, window='nuttall',\n",
    "                                     noverlap=256*8*2, nperseg=512*8*2,\n",
    "                                     nfft=2048*16*8)\n",
    "\n",
    "fig = plt.figure()\n",
    "ax1 = fig.add_subplot(121)\n",
    "ax2 = fig.add_subplot(122)\n",
    "ax1.pcolormesh(t, f, Sxx)\n",
    "ax2.pcolormesh(td, fd, Sxxd)"
   ]
  },
  {
   "cell_type": "code",
   "execution_count": 5,
   "metadata": {},
   "outputs": [
    {
     "name": "stderr",
     "output_type": "stream",
     "text": [
      "/home/rtse/anaconda3/envs/irss/lib/python3.6/site-packages/scipy/signal/signaltools.py:491: FutureWarning: Using a non-tuple sequence for multidimensional indexing is deprecated; use `arr[tuple(seq)]` instead of `arr[seq]`. In the future this will be interpreted as an array index, `arr[np.array(seq)]`, which will result either in an error or a different result.\n",
      "  return x[reverse].conj()\n"
     ]
    },
    {
     "data": {
      "text/plain": [
       "[<matplotlib.lines.Line2D at 0x7fc2b482c128>]"
      ]
     },
     "execution_count": 5,
     "metadata": {},
     "output_type": "execute_result"
    },
    {
     "data": {
      "image/png": "[encoded data removed]",
      "text/plain": [
       "<Figure size 432x288 with 1 Axes>"
      ]
     },
     "metadata": {
      "needs_background": "light"
     },
     "output_type": "display_data"
    }
   ],
   "source": [
    "cor = scipy.signal.correlate(chirp, delayed)\n",
    "plt.plot(np.linspace(0, 10, len(cor)), cor)"
   ]
  },
  {
   "cell_type": "code",
   "execution_count": null,
   "metadata": {},
   "outputs": [],
   "source": [
    "rx = chirp + np.random.normal(0, 5)\n",
    "fr, tr, Sxxr = scipy.signal.spectrogram(rx, fs=fs, window='nuttall',\n",
    "                                     noverlap=256*8*2, nperseg=512*8*2,\n",
    "                                     nfft=2048*16*8)\n",
    "plt.pcolormesh(tr, fr, Sxxr)\n",
    "plt.show()\n",
    "\n",
    "cor = scipy.signal.correlate(rx, delayed)\n",
    "plt.plot(np.linspace(0, 10, len(cor)), cor)\n",
    "plt.show()"
   ]
  },
  {
   "cell_type": "code",
   "execution_count": null,
   "metadata": {},
   "outputs": [],
   "source": []
  }
 ],
 "metadata": {
  "kernelspec": {
   "display_name": "Python 3",
   "language": "python",
   "name": "python3"
  },
  "language_info": {
   "codemirror_mode": {
    "name": "ipython",
    "version": 3
   },
   "file_extension": ".py",
   "mimetype": "text/x-python",
   "name": "python",
   "nbconvert_exporter": "python",
   "pygments_lexer": "ipython3",
   "version": "3.6.7"
  }
 },
 "nbformat": 4,
 "nbformat_minor": 2
}
