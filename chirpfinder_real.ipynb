{
 "cells": [
  {
   "cell_type": "code",
   "execution_count": 1,
   "metadata": {},
   "outputs": [],
   "source": [
    "import numpy as np\n",
    "from numpy.fft import fft, ifft, fftshift\n",
    "import scipy.signal\n",
    "import matplotlib.pyplot as plt"
   ]
  },
  {
   "cell_type": "code",
   "execution_count": 2,
   "metadata": {},
   "outputs": [],
   "source": [
    "SAMP_RATE = 50e6 # samples per second\n",
    "FFT_SIZE = 65536*4*4*4 # bins\n",
    "TIME = 0.1 # seconds of recording\n",
    "\n",
    "raw = np.fromfile('./data/own/IQREC-02-03-19-13h38m31s479.iq', dtype='int16')\n",
    "raw = raw[0 : len(raw) : 2] + 1.0j * raw[0 : len(raw) : 2]\n",
    "raw = raw[0:int(TIME * SAMP_RATE)]"
   ]
  },
  {
   "cell_type": "code",
   "execution_count": 3,
   "metadata": {},
   "outputs": [],
   "source": [
    "def plot_spect(sig, fs, window='nuttall', noverlap=256*8*2, nperseg=512*8*2, nfft=2048*16*8):\n",
    "    '''Plot the power spectrum of a signal over time (waterfall plot)'''\n",
    "    f, t, Sxx = scipy.signal.spectrogram(sig, fs=fs, window='nuttall',\n",
    "                                     noverlap=256*8, nperseg=512*8,\n",
    "                                     nfft=2048*16*8*2*4)\n",
    "    plt.pcolormesh(f, t, Sxx.T)\n",
    "    plt.ylabel('time')\n",
    "    plt.xlabel('freq')\n",
    "    plt.show()\n",
    "    plt.close()\n",
    "\n",
    "\n",
    "def np2(n):\n",
    "    '''Find the next power 2 number (for FFT)'''\n",
    "    lg = np.log2(n)\n",
    "    if lg != int(lg):\n",
    "        lg = int(lg) + 1\n",
    "    return int(np.power(2, lg))\n",
    "\n",
    "\n",
    "def delay_sig(datin, shift):\n",
    "    '''Delay a signal by shift samples'''\n",
    "    Nin = len(datin) \n",
    "    N = np2(Nin +np.max(np.abs(shift)))\n",
    "    fdatin = fft(datin, N)\n",
    "    ik = np.array([2j*np.pi*k for k in range(0, N)]) / N \n",
    "    fshift = np.exp(-ik*shift)\n",
    "    datout = np.real(np.fft.ifft(fshift * fdatin))\n",
    "    datout = datout[0:Nin]\n",
    "    return datout\n",
    "\n",
    "\n",
    "def xcorr(x, y):\n",
    "    return ifft(fft(x) * np.conj(fft(y))).real\n",
    "\n",
    "def mfreqz(b,a=1):\n",
    "    '''Plot frequency and phase response of a filter'''\n",
    "    w,h = scipy.signal.freqz(b,a)\n",
    "    h_dB = 20 * np.log10 (abs(h))\n",
    "    plt.subplot(211)\n",
    "    plt.plot(w/max(w),h_dB)\n",
    "    plt.ylim(-150, 5)\n",
    "    plt.ylabel('Magnitude (db)')\n",
    "    plt.xlabel(r'Normalized Frequency (x$\\pi$rad/sample)')\n",
    "    plt.title(r'Frequency response')\n",
    "    plt.subplot(212)\n",
    "    h_Phase = np.unwrap(np.arctan2(np.imag(h),np.real(h)))\n",
    "    plt.plot(w/max(w),h_Phase)\n",
    "    plt.ylabel('Phase (radians)')\n",
    "    plt.xlabel(r'Normalized Frequency (x$\\pi$rad/sample)')\n",
    "    plt.title(r'Phase response')\n",
    "    plt.subplots_adjust(hspace=0.5)\n",
    "\n",
    "\n",
    "def impz(b,a=1):\n",
    "    '''Plot step and impulse response of the filter'''\n",
    "    l = len(b)\n",
    "    impulse = np.repeat(0.,l); impulse[0] =1.\n",
    "    x = np.arange(0,l)\n",
    "    response = scipy.signal.lfilter(b,a,impulse)\n",
    "    plt.subplot(211)\n",
    "    plt.stem(x, response)\n",
    "    plt.ylabel('Amplitude')\n",
    "    plt.xlabel(r'n (samples)')\n",
    "    plt.title(r'Impulse response')\n",
    "    plt.subplot(212)\n",
    "    step = cumsum(response)\n",
    "    plt.stem(x, step)\n",
    "    plt.ylabel('Amplitude')\n",
    "    plt.xlabel(r'n (samples)')\n",
    "    plt.title(r'Step response')\n",
    "    plt.subplots_adjust(hspace=0.5)\n",
    "\n",
    "\n",
    "def design_bandpass(ntaps, cutoff=0.5, window='blackmanharris'):  \n",
    "    hpf = scipy.signal.firwin(ntaps, cutoff=cutoff, window=window)\n",
    "    lpf = -scipy.signal.firwin(ntaps, cutoff=cutoff-0.1, window=window)\n",
    "    lpf[int(ntaps/2)] += 1\n",
    "    \n",
    "    bpf = -(hpf + lpf)\n",
    "    bpf[int(ntaps/2)] += 1\n",
    "    \n",
    "    return bpf\n",
    "\n",
    "\n",
    "def design_remez(n, cfreq, passw, stop_l, stop_h, samp_freq):\n",
    "    '''\n",
    "    Design a FIR filter with the following parameters using the\n",
    "    Remez exchange algorithm.\n",
    "    \n",
    "    cfreq: Center Frequency\n",
    "    passw: Passband width (passband is [cfreq - passw, cfreq + passw])\n",
    "    samp_freq: Sampling frequency\n",
    "    '''\n",
    "    bands = np.array([0, stop_l, cfreq - passw, cfreq + passw, stop_h, samp_freq/2])\n",
    "    bpf = scipy.signal.remez(n, bands, [0, 1, 0], fs=samp_freq, type='bandpass')\n",
    "    return bpf"
   ]
  },
  {
   "cell_type": "code",
   "execution_count": 4,
   "metadata": {},
   "outputs": [],
   "source": [
    "# plot_spect(sc[0:2**15], 50e6, noverlap=256*8*2, nperseg=512*8*2*4*4, nfft=2048*16*8*4*4)"
   ]
  },
  {
   "cell_type": "code",
   "execution_count": 5,
   "metadata": {},
   "outputs": [
    {
     "name": "stderr",
     "output_type": "stream",
     "text": [
      "/home/rytse/anaconda3/envs/irss/lib/python3.6/site-packages/ipykernel_launcher.py:3: DeprecationWarning: object of type <class 'float'> cannot be safely interpreted as an integer.\n",
      "  This is separate from the ipykernel package so we can avoid doing imports until\n"
     ]
    }
   ],
   "source": [
    "NOISE_DB = 45 # dB\n",
    "TX_DB = 15 # dB\n",
    "ts = np.linspace(0, TIME, TIME*SAMP_RATE, endpoint=False)\n",
    "chirp = scipy.signal.chirp(ts, f0=2e6, t1=TIME, f1=20e6 * 1.3, method='linear')\n",
    "sig = np.power(10, TX_DB / 10)*(chirp.copy() / np.max(chirp)) + np.power(10, NOISE_DB / 10)*(raw / np.max(raw))"
   ]
  },
  {
   "cell_type": "code",
   "execution_count": 6,
   "metadata": {},
   "outputs": [
    {
     "data": {
      "image/png": "[encoded data removed]",
      "text/plain": [
       "<Figure size 432x288 with 1 Axes>"
      ]
     },
     "metadata": {
      "needs_background": "light"
     },
     "output_type": "display_data"
    },
    {
     "data": {
      "text/plain": [
       "500000"
      ]
     },
     "execution_count": 6,
     "metadata": {},
     "output_type": "execute_result"
    }
   ],
   "source": [
    "cor1 = xcorr(sig, chirp)\n",
    "delayed = delay_sig(sig, 5000*100)\n",
    "cor2 = xcorr(delayed, chirp)\n",
    "\n",
    "plt.plot(fftshift(cor1), c='r')\n",
    "plt.plot(fftshift(cor2), c='b')\n",
    "plt.show()\n",
    "\n",
    "np.argmax(cor2)"
   ]
  },
  {
   "cell_type": "code",
   "execution_count": null,
   "metadata": {},
   "outputs": [],
   "source": []
  }
 ],
 "metadata": {
  "kernelspec": {
   "display_name": "Python 3",
   "language": "python",
   "name": "python3"
  },
  "language_info": {
   "codemirror_mode": {
    "name": "ipython",
    "version": 3
   },
   "file_extension": ".py",
   "mimetype": "text/x-python",
   "name": "python",
   "nbconvert_exporter": "python",
   "pygments_lexer": "ipython3",
   "version": "3.6.7"
  }
 },
 "nbformat": 4,
 "nbformat_minor": 2
}
