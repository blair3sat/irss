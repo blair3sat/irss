{
 "cells": [
  {
   "cell_type": "code",
   "execution_count": 1,
   "metadata": {},
   "outputs": [],
   "source": [
    "import numpy as np\n",
    "from numpy.fft import fft, ifft, fftshift\n",
    "import scipy.signal\n",
    "import matplotlib.pyplot as plt\n",
    "\n",
    "from rfutils import *"
   ]
  },
  {
   "cell_type": "code",
   "execution_count": 2,
   "metadata": {},
   "outputs": [],
   "source": [
    "SAMP_RATE = 50e6 # samples per second\n",
    "FFT_SIZE = 65536*4*4*4 # bins\n",
    "TIME = 0.1 # seconds of recording\n",
    "\n",
    "raw = np.fromfile('./data/own/IQREC-02-03-19-13h38m31s479.iq', dtype='int16')\n",
    "raw = raw[0 : len(raw) : 2] + 1.0j * raw[0 : len(raw) : 2]\n",
    "raw = raw[0:int(TIME * SAMP_RATE)]"
   ]
  },
  {
   "cell_type": "code",
   "execution_count": 3,
   "metadata": {},
   "outputs": [
    {
     "name": "stderr",
     "output_type": "stream",
     "text": [
      "/home/rytse/anaconda3/envs/irss/lib/python3.6/site-packages/ipykernel_launcher.py:3: DeprecationWarning: object of type <class 'float'> cannot be safely interpreted as an integer.\n",
      "  This is separate from the ipykernel package so we can avoid doing imports until\n"
     ]
    }
   ],
   "source": [
    "NOISE_DB = 30 # dB\n",
    "TX_DB = -10 # dB\n",
    "ts = np.linspace(0, TIME, TIME*SAMP_RATE, endpoint=False)\n",
    "chirp = scipy.signal.chirp(ts, f0=2e6, t1=TIME*20, f1=20e6, method='linear')\n",
    "sig = np.power(10, TX_DB / 10)*(chirp.copy() / np.max(chirp)) + np.power(10, NOISE_DB / 10)*(raw / np.max(raw))"
   ]
  },
  {
   "cell_type": "code",
   "execution_count": 4,
   "metadata": {
    "scrolled": true
   },
   "outputs": [
    {
     "data": {
      "image/png": "[encoded data removed]",
      "text/plain": [
       "<Figure size 432x288 with 1 Axes>"
      ]
     },
     "metadata": {
      "needs_background": "light"
     },
     "output_type": "display_data"
    },
    {
     "data": {
      "text/plain": [
       "500000"
      ]
     },
     "execution_count": 4,
     "metadata": {},
     "output_type": "execute_result"
    }
   ],
   "source": [
    "cor1 = xcorr(sig, chirp)\n",
    "delayed = delay_sig(sig, 5000*100)\n",
    "cor2 = xcorr(delayed, chirp)\n",
    "\n",
    "plt.plot(fftshift(cor1), c='r')\n",
    "plt.plot(fftshift(cor2), c='b')\n",
    "plt.show()\n",
    "\n",
    "np.argmax(cor2)"
   ]
  },
  {
   "cell_type": "code",
   "execution_count": null,
   "metadata": {},
   "outputs": [],
   "source": [
    "# cfreq = (2e6 + 20e6) / 2\n",
    "# passw = (3e6 - 2e6) / 2\n",
    "# stop_l = cfreq - 1.2 * passw\n",
    "# stop_h = cfreq + 1.2 * passw\n",
    "\n",
    "cfreq = 2e6 + (20e6 - 2e6) / 20 / 2 \n",
    "passw = (0.06e6) / 2\n",
    "stop_l = cfreq - 1.2 * passw\n",
    "stop_h = cfreq + 1.2 * passw\n",
    "\n",
    "bpf = design_remez(10000, cfreq, passw, stop_l, stop_h, SAMP_RATE)\n",
    "freq, response = scipy.signal.freqz(bpf)\n",
    "plt.semilogy(0.5 * SAMP_RATE * freq / np.pi, np.abs(response), 'b-')\n",
    "plt.show()\n",
    "\n",
    "filtd = scipy.signal.lfilter(bpf, [1], delayed)\n",
    "cor3 = xcorr(filtd, chirp)\n",
    "plt.plot(fftshift(cor3), c='r')\n",
    "plt.show()\n",
    "\n",
    "np.argmax(cor3)"
   ]
  },
  {
   "cell_type": "code",
   "execution_count": null,
   "metadata": {},
   "outputs": [],
   "source": [
    "template = scipy.signal.chirp(ts, f0=2e6, t1=TIME*20, f1=20e6 * 1.00, method='linear')\n",
    "cor1 = xcorr(sig, template)\n",
    "delayed = delay_sig(sig, 5000*100)\n",
    "cor2 = xcorr(delayed, template)\n",
    "plt.plot(fftshift(cor1), c='r')\n",
    "plt.plot(fftshift(cor2), c='b')\n",
    "plt.show()\n",
    "\n",
    "ed = np.argmax(cor2)\n",
    "vm = delayed[ed]\n",
    "ptot = np.sum(delayed * delayed) / len(delayed)\n",
    "\n",
    "print('Peak Power Ratio Correct: ' + str(vm / ptot))\n",
    "\n",
    "template = scipy.signal.chirp(ts, f0=2e6, t1=TIME*20, f1=20e6 * 1.001, method='linear')\n",
    "cor1 = xcorr(sig, template)\n",
    "delayed = delay_sig(sig, 5000*100)\n",
    "cor2 = xcorr(delayed, template)\n",
    "plt.plot(fftshift(cor1), c='r')\n",
    "plt.plot(fftshift(cor2), c='b')\n",
    "plt.show()\n",
    "\n",
    "ed = np.argmax(cor2)\n",
    "vm = delayed[ed]\n",
    "ptot = np.sum(delayed * delayed) / len(delayed)\n",
    "\n",
    "print('Peak Power Ratio Offset: ' + str(vm / ptot))\n",
    "\n",
    "template = scipy.signal.chirp(ts, f0=2e6, t1=TIME*20, f1=20e6 * 0.995, method='linear')\n",
    "cor1 = xcorr(sig, template)\n",
    "delayed = delay_sig(sig, 5000*100)\n",
    "cor2 = xcorr(delayed, template)\n",
    "plt.plot(fftshift(cor1), c='r')\n",
    "plt.plot(fftshift(cor2), c='b')\n",
    "plt.show()\n",
    "\n",
    "ed = np.argmax(cor2)\n",
    "vm = delayed[ed]\n",
    "ptot = np.sum(delayed * delayed) / len(delayed)\n",
    "\n",
    "print('Peak Power Ratio Offset: ' + str(vm / ptot))"
   ]
  },
  {
   "cell_type": "code",
   "execution_count": null,
   "metadata": {},
   "outputs": [],
   "source": []
  }
 ],
 "metadata": {
  "kernelspec": {
   "display_name": "Python 3",
   "language": "python",
   "name": "python3"
  },
  "language_info": {
   "codemirror_mode": {
    "name": "ipython",
    "version": 3
   },
   "file_extension": ".py",
   "mimetype": "text/x-python",
   "name": "python",
   "nbconvert_exporter": "python",
   "pygments_lexer": "ipython3",
   "version": "3.6.7"
  }
 },
 "nbformat": 4,
 "nbformat_minor": 2
}
