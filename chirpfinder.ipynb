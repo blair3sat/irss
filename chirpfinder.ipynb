{
 "cells": [
  {
   "cell_type": "code",
   "execution_count": 1,
   "metadata": {},
   "outputs": [],
   "source": [
    "import numpy as np\n",
    "import scipy.signal\n",
    "import matplotlib.pyplot as plt\n",
    "\n",
    "T = 10\n",
    "fs = 8000*16\n",
    "\n",
    "ts = np.linspace(0, T, T*fs, endpoint=False)\n",
    "# chirp = scipy.signal.chirp(ts, f0=2e6, t1=80, f1=20e6, method='linear')\n",
    "# chirp = scipy.signal.chirp(ts, f0=200*2*8, t1=20, f1=1500*2*8, method='linear')\n",
    "chirp = scipy.signal.chirp(ts, f0=2e6, t1=128*16, f1=20e6, method='linear')\n",
    "\n",
    "f, t, Sxx = scipy.signal.spectrogram(chirp, fs=fs, window='nuttall',\n",
    "                                     noverlap=256*8*2, nperseg=512*8*2,\n",
    "                                     nfft=2048*16*8)\n",
    "\n",
    "# plt.pcolormesh(t, f, Sxx)\n",
    "# plt.ylabel('Frequency [Hz]')\n",
    "# plt.xlabel('Time [sec]')\n",
    "# # plt.pcolormesh(t, f, Sxx)\n",
    "# plt.show()"
   ]
  },
  {
   "cell_type": "code",
   "execution_count": 2,
   "metadata": {},
   "outputs": [
    {
     "data": {
      "image/png": "[encoded data removed]",
      "text/plain": [
       "<Figure size 432x288 with 2 Axes>"
      ]
     },
     "metadata": {
      "needs_background": "light"
     },
     "output_type": "display_data"
    }
   ],
   "source": [
    "delayed = scipy.signal.chirp(ts, f0=2e6, t1=128*16,\n",
    "                             f1=20e6, method='linear')\n",
    "delayed = np.array([0] * 600 + list(delayed[600:]))\n",
    "\n",
    "fd, td, Sxxd = scipy.signal.spectrogram(delayed, fs=fs, window='nuttall',\n",
    "                                     noverlap=256*8*2, nperseg=512*8*2,\n",
    "                                     nfft=2048*16*8)\n",
    "\n",
    "fig = plt.figure()\n",
    "ax1 = fig.add_subplot(121)\n",
    "ax2 = fig.add_subplot(122)\n",
    "ax1.pcolormesh(t, f, Sxx)\n",
    "ax2.pcolormesh(td, fd, Sxxd)\n",
    "plt.show()"
   ]
  },
  {
   "cell_type": "code",
   "execution_count": 5,
   "metadata": {},
   "outputs": [
    {
     "data": {
      "text/plain": [
       "[<matplotlib.lines.Line2D at 0x7f9d4a2f12b0>]"
      ]
     },
     "execution_count": 5,
     "metadata": {},
     "output_type": "execute_result"
    },
    {
     "data": {
      "image/png": "[encoded data removed]",
      "text/plain": [
       "<Figure size 432x288 with 1 Axes>"
      ]
     },
     "metadata": {
      "needs_background": "light"
     },
     "output_type": "display_data"
    }
   ],
   "source": [
    "# chirp = scipy.signal.chirp(ts, f0=2e6, t1=128*16, f1=20e6, method='linear')\n",
    "cor = scipy.signal.correlate(chirp, delayed)\n",
    "# cor = scipy.signal.correlate(chirp, np.array([0] * 500 + list(delayed[500:])))\n",
    "plt.plot(np.linspace(0, 10, len(cor)), cor)"
   ]
  },
  {
   "cell_type": "code",
   "execution_count": null,
   "metadata": {},
   "outputs": [],
   "source": [
    "noise_f = np.random.normal(0,1,(2048, len(chirp)))\n",
    "noise_t = np.fft.ifft(noise_f.T)\n",
    "rx = chirp + noise_t\n",
    "cor = scipy.signal.correlate(rx, delayed)\n",
    "plt.plot(np.linspace(0, 10, len(cor)), cor)"
   ]
  },
  {
   "cell_type": "code",
   "execution_count": null,
   "metadata": {},
   "outputs": [],
   "source": []
  }
 ],
 "metadata": {
  "kernelspec": {
   "display_name": "Python 3",
   "language": "python",
   "name": "python3"
  },
  "language_info": {
   "codemirror_mode": {
    "name": "ipython",
    "version": 3
   },
   "file_extension": ".py",
   "mimetype": "text/x-python",
   "name": "python",
   "nbconvert_exporter": "python",
   "pygments_lexer": "ipython3",
   "version": "3.6.7"
  }
 },
 "nbformat": 4,
 "nbformat_minor": 2
}
