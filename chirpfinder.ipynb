{
 "cells": [
  {
   "cell_type": "code",
   "execution_count": 1,
   "metadata": {},
   "outputs": [],
   "source": [
    "import numpy as np\n",
    "import scipy.signal\n",
    "import matplotlib.pyplot as plt\n",
    "\n",
    "# %matplotlib notebook"
   ]
  },
  {
   "cell_type": "code",
   "execution_count": 3,
   "metadata": {},
   "outputs": [
    {
     "data": {
      "image/png": "[encoded data removed]",
      "text/plain": [
       "<Figure size 432x288 with 1 Axes>"
      ]
     },
     "metadata": {
      "needs_background": "light"
     },
     "output_type": "display_data"
    }
   ],
   "source": [
    "SAMP_RATE = 50e6 # samples per second\n",
    "FFT_SIZE = 65536*4*4*4 # bins\n",
    "TIME = 0.1 # seconds of recording\n",
    "\n",
    "raw = np.fromfile('./data/own/IQREC-02-03-19-13h38m31s479.iq', dtype='int16')\n",
    "sc = raw[0 : len(raw) : 2] + 1.0j * raw[0 : len(raw) : 2]\n",
    "sc = sc[0:int(TIME * SAMP_RATE)]\n",
    "\n",
    "Pxx, freqs, bins, im = plt.specgram(sc, NFFT = FFT_SIZE, Fs = 1 / SAMP_RATE, noverlap = TIME * SAMP_RATE / FFT_SIZE / 2)\n",
    "plt.show()"
   ]
  },
  {
   "cell_type": "code",
   "execution_count": 4,
   "metadata": {},
   "outputs": [
    {
     "name": "stdout",
     "output_type": "stream",
     "text": [
      "min: -1e-08, max: 9.999995231628417e-09\n"
     ]
    }
   ],
   "source": [
    "print('min: ' + str(min(freqs)) + ', max: ' +str(max(freqs)))"
   ]
  },
  {
   "cell_type": "code",
   "execution_count": 3,
   "metadata": {},
   "outputs": [
    {
     "data": {
      "image/png": "[encoded data removed]",
      "text/plain": [
       "<Figure size 432x288 with 1 Axes>"
      ]
     },
     "metadata": {
      "needs_background": "light"
     },
     "output_type": "display_data"
    }
   ],
   "source": [
    "\n",
    "# win = scipy.signal.nuttall(WIN_SIZE, sym=True)\n",
    "\n",
    "# f = np.zeros((len(win), int(len(sc) / len(win) / 2)))\n",
    "# jj = 0\n",
    "\n",
    "# for freqbin in \n",
    "\n",
    "\n",
    "# for ii in np.arange(0, len(win) / 2, len(sc) - len(win) - 2, dtype='int16'):\n",
    "#     windowed = sc[ii : ii + WIN_SIZE] * win\n",
    "# #     f[:,jj] = 20 * np.log10(abs(np.fft.fftshift(np.fft.fft(windowed))))\n",
    "#     f[:,jj] = 20 * np.log10(abs(np.fft.fft(windowed)))\n",
    "#     jj += 1\n",
    "    \n",
    "    \n",
    "# def pspectwin()\n",
    "\n",
    "# t = np.linspace(0, len(sc) / 50e6, f.shape[0])\n",
    "# w = np.linspace(0, 1, f.shape[1])\n",
    "# plt.pcolormesh(t, w, f.T)\n",
    "# plt.show()"
   ]
  },
  {
   "cell_type": "code",
   "execution_count": 4,
   "metadata": {},
   "outputs": [
    {
     "data": {
      "image/png": "[encoded data removed]",
      "text/plain": [
       "<Figure size 432x288 with 1 Axes>"
      ]
     },
     "metadata": {
      "needs_background": "light"
     },
     "output_type": "display_data"
    }
   ],
   "source": [
    "# plt.pcolormesh(f.T)\n",
    "# plt.show()"
   ]
  },
  {
   "cell_type": "code",
   "execution_count": null,
   "metadata": {},
   "outputs": [],
   "source": [
    "# fd, td, Sxxd = scipy.signal.spectrogram(sc[0:9086*8], fs=8000, window='nuttall',\n",
    "#                                      noverlap=int(256), nperseg=int(512),\n",
    "#                                      nfft=2048*16*8*2*2*2)\n",
    "\n",
    "# fd, td, Sxxd = scipy.signal.spectrogram(sc[0:9086*8], fs=8000, window='nuttall',\n",
    "#                                      noverlap=int(256*4), nperseg=int(512*4),\n",
    "#                                      nfft=FFT_SIZE)\n",
    "\n",
    "# fd, td, Sxxd = scipy.signal.spectrogram(sc[0:9086*8], fs=8000, window='nuttall', nfft=FFT_SIZE)\n",
    "\n",
    "\n",
    "# # plt.pcolormesh(td, fd[0:int(60000 * 8/14)], Sxxd[:][0:int(60000 * 8/14)])\n",
    "# plt.pcolormesh(td, fd[0:int(60000)], Sxxd[:][0:int(60000)])\n",
    "# plt.show()\n",
    "\n",
    "# T = 10\n",
    "# fs = 8000 * 16\n",
    "\n",
    "# ts = np.linspace(0, T, T*fs, endpoint=False)\n",
    "# chirp = scipy.signal.chirp(ts, f0=2e6, t1=128*16, f1=20e6, method='linear')\n",
    "\n",
    "# f, t, Sxx = scipy.signal.spectrogram(chirp, fs=fs, window='nuttall',\n",
    "#                                      noverlap=256*8*2, nperseg=512*8*2,\n",
    "#                                      nfft=2048*16*8)"
   ]
  },
  {
   "cell_type": "code",
   "execution_count": null,
   "metadata": {},
   "outputs": [],
   "source": [
    "# delayed = scipy.signal.chirp(ts, f0=2e6, t1=128*16,\n",
    "#                              f1=20e6, method='linear')\n",
    "# delayed = np.array([0] * 600 + list(delayed[600:]))\n",
    "\n",
    "# fd, td, Sxxd = scipy.signal.spectrogram(delayed, fs=fs, window='nuttall',\n",
    "#                                      noverlap=256*8*2, nperseg=512*8*2,\n",
    "#                                      nfft=2048*16*8)\n",
    "\n",
    "# fig = plt.figure()\n",
    "# ax1 = fig.add_subplot(121)\n",
    "# ax2 = fig.add_subplot(122)\n",
    "# ax1.pcolormesh(t, f, Sxx)\n",
    "# ax2.pcolormesh(td, fd, Sxxd)\n"
   ]
  },
  {
   "cell_type": "code",
   "execution_count": null,
   "metadata": {},
   "outputs": [],
   "source": [
    "# cor = scipy.signal.correlate(chirp, delayed)\n",
    "# plt.plot(np.linspace(0, 10, len(cor)), cor)"
   ]
  },
  {
   "cell_type": "code",
   "execution_count": null,
   "metadata": {},
   "outputs": [],
   "source": [
    "# rep_f = np.random.normal(0, 1, (len(chirp), 2048))\n",
    "# rep_t = np.fft.ifft(rep_f, 1)\n",
    "\n",
    "# rx = chirp + rep_t[0]\n",
    "\n",
    "# fr, tr, Sxxr = scipy.signal.spectrogram(rx, fs=fs, window='nuttall',\n",
    "#                                      noverlap=256*8*2, nperseg=512*8*2,\n",
    "#                                      nfft=2048*16*8)\n",
    "# plt.pcolormesh(tr, fr, Sxxr)\n",
    "# plt.show()\n",
    "\n",
    "# cor = scipy.signal.correlate(rx, delayed)\n",
    "# plt.plot(np.linspace(0, 10, len(cor)), cor)\n",
    "# plt.show()"
   ]
  }
 ],
 "metadata": {
  "kernelspec": {
   "display_name": "Python 3",
   "language": "python",
   "name": "python3"
  },
  "language_info": {
   "codemirror_mode": {
    "name": "ipython",
    "version": 3
   },
   "file_extension": ".py",
   "mimetype": "text/x-python",
   "name": "python",
   "nbconvert_exporter": "python",
   "pygments_lexer": "ipython3",
   "version": "3.6.7"
  }
 },
 "nbformat": 4,
 "nbformat_minor": 2
}
